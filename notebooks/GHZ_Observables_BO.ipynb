{
 "cells": [
  {
   "cell_type": "markdown",
   "metadata": {},
   "source": [
    "# Quantum Optimal Control through Bayesian Optimisation using Observables\n",
    "### Preparation of the Greenberger–Horne–Zeilinger state (GHZ state)\n",
    "\n",
    "\n",
    "In this notebook we address the task of creating the GHZ state $\\frac{|000\\rangle +|111\\rangle}{\\sqrt{2}}$ using observables"
   ]
  },
  {
   "cell_type": "code",
   "execution_count": 1,
   "metadata": {},
   "outputs": [
    {
     "name": "stderr",
     "output_type": "stream",
     "text": [
      "/home/mam123/Documents/QuantumOptimalControl-ML/QOC_venv/lib/python3.11/site-packages/tqdm/auto.py:21: TqdmWarning: IProgress not found. Please update jupyter and ipywidgets. See https://ipywidgets.readthedocs.io/en/stable/user_install.html\n",
      "  from .autonotebook import tqdm as notebook_tqdm\n"
     ]
    }
   ],
   "source": [
    "#Import libraries\n",
    "import torch\n",
    "from matplotlib import pyplot as plt\n",
    "from qiskit import QuantumCircuit\n",
    "import numpy as np\n",
    "from math import pi\n",
    "import matplotlib.pylab as plt\n",
    "from itertools import product\n",
    "from qiskit.quantum_info import Operator\n",
    "from tqdm.auto import tqdm\n",
    "import warnings\n",
    "warnings.filterwarnings(\"ignore\")\n",
    "import sys\n",
    "sys.path.insert(1, '../src/')\n",
    "from utils.functions import *\n",
    "from models.models_bo import *\n"
   ]
  },
  {
   "cell_type": "markdown",
   "metadata": {},
   "source": [
    "In this cell, we define the quantum circuit designed to prepare the target GHZ state. You can also modify the target state and the initial state directly within this cell, allowing for flexibility in the setup. <br />\n",
    "\n",
    "Additionally, we calculate the non-zero observables associated with the target state. These observables will be modeled using surrogate models, specifically Gaussian Processes, to efficiently represent them."
   ]
  },
  {
   "cell_type": "code",
   "execution_count": 2,
   "metadata": {},
   "outputs": [
    {
     "data": {
      "image/png": "[encoded data removed]",
      "text/plain": [
       "<Figure size 621.941x284.278 with 1 Axes>"
      ]
     },
     "execution_count": 2,
     "metadata": {},
     "output_type": "execute_result"
    }
   ],
   "source": [
    "def create_controlled_ghz_circuit(thetas, initial_state):\n",
    "  \n",
    "    circ = QuantumCircuit(3)\n",
    "    # Initialize qubits with the specified state\n",
    "    circ.initialize(initial_state, [0,1,2])\n",
    "    \n",
    "    # Apply parameterized rotation gates   \n",
    "    circ.ry(thetas[0,0], 0)\n",
    "    circ.ry(thetas[0,1], 1)\n",
    "    circ.ry(thetas[0,2], 2)\n",
    "    circ.cx(0, 1)\n",
    "    circ.cx(0, 2)\n",
    "    circ.rx(thetas[0,3], 0)\n",
    "    circ.rx(thetas[0,4], 1)\n",
    "    circ.rx(thetas[0,5], 2)\n",
    "\n",
    "    return circ\n",
    "target_state = np.array([1 , 0, 0, 0, 0, 0, 0, 1])/np.sqrt(2)\n",
    "#target_state = np.array([1 , 0, 0, 0, 0, 0, 0, 1.01]) *np.sqrt((100**2)/((100**2 + 101**2))  )\n",
    "initial_state = np.array([1, 0, 0, 0, 0, 0, 0, 0])\n",
    "n_thetas = 6 #Number of parameters\n",
    "\n",
    "\n",
    "ghz_visualization = create_controlled_ghz_circuit(np.zeros(n_thetas)[np.newaxis,:],initial_state)\n",
    "coefficients, num_qubits = get_coefficients(target_state, ghz_visualization.num_qubits)\n",
    "coefficients_array = np.array([coefficients[k] for k in list(coefficients.keys())])\n",
    "\n",
    "ghz_visualization.draw('mpl')"
   ]
  },
  {
   "cell_type": "code",
   "execution_count": 3,
   "metadata": {},
   "outputs": [],
   "source": [
    "ghz_contr_circuit = create_controlled_ghz_circuit\n",
    "n_surrogates_models = len(coefficients)\n",
    "\n",
    "#If you want to estimate the performance with a set of test of the surrogate models, it is recommended to use the lines that contain the word \"test\"\n",
    "#they are commented to reduce the computational cost.\n",
    "#n_test_samples = 100\n",
    "#X_test, y_test_expectation_values, y_test_fidelities = get_real_samples(ghz_contr_circuit, n_test_samples, n_thetas, initial_state, target_state)\n"
   ]
  },
  {
   "cell_type": "markdown",
   "metadata": {},
   "source": [
    "Main parameters of the BO"
   ]
  },
  {
   "cell_type": "code",
   "execution_count": 4,
   "metadata": {},
   "outputs": [],
   "source": [
    "#Generate initial samples\n",
    "n_initial_samples = 100\n",
    "#Number of time to run the BO\n",
    "n_run = 1\n",
    "\n",
    "#Number of iterations of one BO\n",
    "n_BO = 100\n",
    "\n",
    "\n",
    "#If you want to degenerate certain GP you can do it here. Degenerate=(train with less data)\n",
    "# Percentage of data to keep to train the degenerated GP. 0.1->10%.\n",
    "# ie, if n_BO =200, and keep_percent=0.1, the degenerated GP will use n_BO*keep_percent of the data= 20 samples\n",
    "keep_percent = 0.1 \n",
    "gp_degenerated = [] #if is empty, the GPs will use the whole data, if gp_degenerated=[0,1], the GP 0 and 1 will be degenerated\n",
    "\n",
    "#Parameter of the function of adquisicion\n",
    "beta = 0.1"
   ]
  },
  {
   "cell_type": "code",
   "execution_count": 5,
   "metadata": {},
   "outputs": [
    {
     "name": "stdout",
     "output_type": "stream",
     "text": [
      "run  1\n"
     ]
    },
    {
     "name": "stderr",
     "output_type": "stream",
     "text": [
      "Current best Infidelity 9e-09: 100%|██████████| 100/100 [11:31<00:00,  6.91s/it]     \n"
     ]
    }
   ],
   "source": [
    "#BO loop\n",
    "\n",
    "n_BO +=1\n",
    "idx_samples_keep = np.random.choice(np.arange(n_BO), int(n_BO*keep_percent), replace=False)  + n_initial_samples #Keep prior\n",
    "history_best_fidelity_runs = np.zeros((n_run,n_BO)) #metric fidelity during BO\n",
    "best_fidelity_runs = np.zeros(n_run) #metric best fidelity\n",
    "best_thetas_runs = np.zeros((n_run, n_thetas)) #best params\n",
    "n_samples_acquisition_fx = 1000\n",
    "#Parameters of the GP\n",
    "params = {'training_iter': 50, 'learning_rate':0.1, 'initial_noise':1e-8, 'initial_lengthscale':0.9, 'initial_output_scale': 1, 'scaler_target': None, \n",
    "                'verbose':False }\n",
    "bounds = torch.stack([torch.zeros(n_thetas), 2*pi*torch.ones(n_thetas)]) #Bounds angles\n",
    "\n",
    "for iter_run in range(n_run):\n",
    "    print('run ', iter_run+1)\n",
    "\n",
    "    #We get the initial data, prior\n",
    "    X_initial_thetas, y_initial_expectation_values, fidelities_initial = get_real_samples(ghz_contr_circuit, n_initial_samples, n_thetas, initial_state, target_state, type_sampling='Random_Uniform')\n",
    "    history_best_fidelity = []\n",
    "    keys = (['mean_MSE_fidelity_train', 'mean_MSE_fidelity_test'] +\n",
    "            ['mean_loss_train_sm_'+str(n_sm) for n_sm in range(n_surrogates_models)]+\n",
    "            ['mean_loss_test_sm_'+str(n_sm) for n_sm in range(n_surrogates_models)])\n",
    "    mean_metrics = {key: np.zeros(n_BO) for key in keys}\n",
    "    history_thetas = np.zeros((n_BO,n_thetas))\n",
    "\n",
    "    #Store real data\n",
    "    X_train, y_train_expectation_values, y_train_fidelities = X_initial_thetas, y_initial_expectation_values, fidelities_initial\n",
    "\n",
    "    #train model and save variables of training\n",
    "    surrogate_models, metrics_models = {'gp_model':[], 'likelihood':[], 'scaler_target':[]}, {}\n",
    "    for n_sm in range(n_surrogates_models):\n",
    "        gp_model, ll, metrics, scaler_y = train_surrogate_models_gp((X_train, y_train_expectation_values[:,n_sm], [], [], params))\n",
    "        surrogate_models['gp_model'].append(gp_model)\n",
    "        surrogate_models['likelihood'].append(ll)\n",
    "        surrogate_models['scaler_target'].append(scaler_y)\n",
    "        metrics_models['model_train_'+str(n_sm)] = metrics['loss_train'][-1]\n",
    "        #metrics_models['model_test_'+str(n_sm)] = metrics['loss_test'][-1]\n",
    "\n",
    "\n",
    "    #Best fidelity\n",
    "    idx_best_real_fidelity = np.argmax(y_train_fidelities)\n",
    "    best_fidelity = y_train_fidelities[idx_best_real_fidelity]\n",
    "    best_thetas = X_train[idx_best_real_fidelity]\n",
    "    history_best_fidelity.append(best_fidelity)\n",
    "\n",
    "    mean_estimated_fidelities_train,std_estimated_fidelities_train = get_fidelity_from_expectations_values(surrogate_models, X_train, coefficients_array, num_qubits)  \n",
    "    #mean_estimated_fidelities_test,std_estimated_fidelities_test = getFidelityFromExpectationsValues(surrogate_models, X_test, coefficients_array, num_qubits)  \n",
    "    iter_BO = 0\n",
    "    mean_metrics['mean_MSE_fidelity_train'][iter_BO] = np.mean((mean_estimated_fidelities_train - y_train_fidelities)**2)\n",
    "    #mean_metrics['mean_MSE_fidelity_test'][iter_BO] = np.mean((mean_estimated_fidelities_test - y_test_fidelities)**2)\n",
    "    for n_sm in range(n_surrogates_models):\n",
    "        mean_metrics['mean_loss_train_sm_'+str(n_sm)][iter_BO] = metrics_models['model_train_'+str(n_sm)]\n",
    "        #mean_metrics['mean_loss_test_sm_'+str(n_sm)][iter_BO] = metrics_models['model_test_'+str(n_sm)]\n",
    "\n",
    "\n",
    "    pbar = tqdm(range(1, n_BO))\n",
    "    for iter_BO in pbar:\n",
    "        # Generate new angles samples and Acquisition function\n",
    "        wrapped_gp_model = WrappedGPyTorchModelMultiGPFidelity(surrogate_models, coefficients_array, num_qubits)\n",
    "        fx_acq = UpperConfidenceBound(wrapped_gp_model, beta=beta)\n",
    "        fx_acq.model.eval()\n",
    "        candidate, acq_value = optimize_acqf(\n",
    "            acq_function=fx_acq,\n",
    "            bounds=bounds,\n",
    "            q=1,\n",
    "            num_restarts=5,\n",
    "            raw_samples=n_samples_acquisition_fx,)\n",
    "        \n",
    "        #New angles\n",
    "        new_sample = np.array(candidate).squeeze(0) \n",
    "        new_exp_values, new_fid_real, _ = get_expectation_values(ghz_contr_circuit, new_sample[np.newaxis,:],initial_state, target_state) #Get the real values\n",
    "\n",
    "        #Add new data to known X_rain, y_train_fidelities and y_train_expectation_values\n",
    "        X_train = np.vstack((X_train,new_sample[np.newaxis,:]))\n",
    "        y_train_fidelities = np.hstack((y_train_fidelities, new_fid_real))\n",
    "        y_train_expectation_values = np.vstack((y_train_expectation_values, new_exp_values))\n",
    "\n",
    "        #Check if the new fidelity is best than the current best fidelity\n",
    "        if new_fid_real>best_fidelity:\n",
    "            best_fidelity = new_fid_real\n",
    "            best_thetas = new_sample\n",
    "            \n",
    "        history_best_fidelity.append(best_fidelity)\n",
    "        history_thetas[iter_BO] = best_thetas\n",
    "\n",
    "        #Update the surrogate models\n",
    "        surrogate_models, metrics_models = {'gp_model':[], 'likelihood':[], 'scaler_target':[]}, {}\n",
    "        intersect_idx = np.intersect1d(np.arange(X_train.shape[0]),idx_samples_keep) #Idx for the new samples, doesnt include the prior samples, generated during the BO\n",
    "        train_degenerated_idx = np.hstack((np.arange(n_initial_samples),intersect_idx))\n",
    "        for n_sm in range(n_surrogates_models):\n",
    "            if n_sm in gp_degenerated :\n",
    "                gp_model, ll, metrics, scaler_y = train_surrogate_models_gp((X_train[train_degenerated_idx], y_train_expectation_values[train_degenerated_idx ,n_sm], X_test, y_test_expectation_values[:,n_sm], params))\n",
    "\n",
    "            else:\n",
    "                gp_model, ll, metrics, scaler_y = train_surrogate_models_gp((X_train, y_train_expectation_values[:,n_sm], [], [], params))\n",
    "            surrogate_models['gp_model'].append(gp_model)\n",
    "            surrogate_models['likelihood'].append(ll)\n",
    "            surrogate_models['scaler_target'].append(scaler_y)\n",
    "            metrics_models['model_train_'+str(n_sm)] = metrics['loss_train'][-1]\n",
    "            #metrics_models['model_test_'+str(n_sm)] = metrics['loss_test'][-1]\n",
    "        \n",
    "        mean_estimated_fidelities_train, std_estimated_fidelities_train = get_fidelity_from_expectations_values(surrogate_models, X_train, coefficients_array, num_qubits)  \n",
    "        #mean_estimated_fidelities_test, std_estimated_fidelities_test = getFidelityFromExpectationsValues(surrogate_models, X_test, coefficients_array, num_qubits)  \n",
    "\n",
    "        mean_metrics['mean_MSE_fidelity_train'][iter_BO] = np.mean((mean_estimated_fidelities_train - y_train_fidelities)**2)\n",
    "        #mean_metrics['mean_MSE_fidelity_test'][iter_BO] = np.mean((mean_estimated_fidelities_test - y_test_fidelities)**2)\n",
    "        for n_sm in range(n_surrogates_models):\n",
    "            mean_metrics['mean_loss_train_sm_'+str(n_sm)][iter_BO] = metrics_models['model_train_'+str(n_sm)]\n",
    "            #mean_metrics['mean_loss_test_sm_'+str(n_sm)][iter_BO] = metrics_models['model_test_'+str(n_sm)]\n",
    "\n",
    "\n",
    "        pbar.set_description('Current best Infidelity {}'.format(np.round(1-best_fidelity, 9)))\n",
    "\n",
    "\n",
    "    history_best_fidelity_runs[iter_run] = history_best_fidelity\n",
    "    best_fidelity_runs[iter_run] = best_fidelity\n",
    "    best_thetas_runs[iter_run] = best_thetas\n"
   ]
  },
  {
   "cell_type": "code",
   "execution_count": 9,
   "metadata": {},
   "outputs": [
    {
     "data": {
      "image/png": "[encoded data removed]",
      "text/plain": [
       "<Figure size 640x480 with 1 Axes>"
      ]
     },
     "metadata": {},
     "output_type": "display_data"
    },
    {
     "name": "stdout",
     "output_type": "stream",
     "text": [
      "Best infidelity:  8.783425542446821e-09\n",
      "Best angles founded:  [1.5709096e+00 0.0000000e+00 6.2831855e+00 1.4932653e-04 6.2831855e+00\n",
      " 6.2831855e+00]\n"
     ]
    }
   ],
   "source": [
    "plt.plot(np.arange(n_BO),1-np.array(history_best_fidelity),'-o', linewidth=1.3)\n",
    "plt.ylabel('Infidelity')\n",
    "plt.xlabel('Iteration')\n",
    "plt.yscale('log')\n",
    "plt.title('GHZ state infidelity during Bayesian Optimization', size=14)\n",
    "plt.show()\n",
    "print('Best infidelity: ', 1 - best_fidelity)\n",
    "print('Best angles founded: ', best_thetas)\n"
   ]
  },
  {
   "cell_type": "code",
   "execution_count": 10,
   "metadata": {},
   "outputs": [],
   "source": [
    "#Save data generated\n",
    "data_plot = {   'history_best_fidelity_runs':history_best_fidelity_runs,\n",
    "                'best_thetas_runs': best_thetas_runs,\n",
    "                'best_fidelity_runs':best_fidelity_runs, \n",
    "                'history_best_fidelity':history_best_fidelity, \n",
    "                'best_thetas':best_thetas,\n",
    "                'best_fidelity':best_fidelity, \n",
    "                'n_samples_acquisition_fx':n_samples_acquisition_fx,\n",
    "                'n_BO': n_BO,\n",
    "                'learning_rate': params['learning_rate'],\n",
    "                'initial_noise': params['initial_noise'],\n",
    "                'scaler_target': params['scaler_target'],\n",
    "                'n_initial_samples': n_initial_samples,\n",
    "                'mean_MSE_fidelity_train':mean_metrics['mean_MSE_fidelity_train'],\n",
    "                'mean_MSE_fidelity_test':mean_metrics['mean_MSE_fidelity_test'],\n",
    "                'type_acq_function': str(fx_acq), \n",
    "                'GP_degenerated': gp_degenerated,\n",
    "                'keep_percent': keep_percent, \n",
    "                'GP_Obs_degenerated': np.array(list(coefficients.keys()), dtype=str)[gp_degenerated],\n",
    "                'target_state':target_state,\n",
    "                 \n",
    "             }\n",
    "\n",
    " \n",
    "if True:\n",
    "    with open(\"../results/qoc/results_ghz_observables.json\", \"w\") as outfile: \n",
    "        json.dump(data_plot, outfile, cls=CustomEncoder)\n",
    "    "
   ]
  },
  {
   "cell_type": "code",
   "execution_count": null,
   "metadata": {},
   "outputs": [],
   "source": []
  }
 ],
 "metadata": {
  "kernelspec": {
   "display_name": "QML_env",
   "language": "python",
   "name": "python3"
  },
  "language_info": {
   "codemirror_mode": {
    "name": "ipython",
    "version": 3
   },
   "file_extension": ".py",
   "mimetype": "text/x-python",
   "name": "python",
   "nbconvert_exporter": "python",
   "pygments_lexer": "ipython3",
   "version": "3.11.5"
  }
 },
 "nbformat": 4,
 "nbformat_minor": 2
}
