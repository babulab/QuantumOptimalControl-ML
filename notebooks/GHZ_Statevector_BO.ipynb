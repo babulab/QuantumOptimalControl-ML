{
 "cells": [
  {
   "cell_type": "markdown",
   "metadata": {},
   "source": [
    "# Quantum Optimal Control through Bayesian Optimisation on fidelity\n",
    "### Preparation of the Greenberger–Horne–Zeilinger state (GHZ state)\n",
    "\n",
    "\n",
    "In this notebook we address the task of creating the GHZ state $\\frac{|000\\rangle +|111\\rangle}{\\sqrt{2}}$ by optimising on the fidelity"
   ]
  },
  {
   "cell_type": "code",
   "execution_count": 1,
   "metadata": {},
   "outputs": [],
   "source": [
    "#Import libraries\n",
    "import torch\n",
    "from matplotlib import pyplot as plt\n",
    "from qiskit import QuantumCircuit\n",
    "import numpy as np\n",
    "from math import pi\n",
    "import matplotlib.pylab as plt\n",
    "from itertools import product\n",
    "from qiskit.quantum_info import Operator\n",
    "from tqdm.auto import tqdm\n",
    "import warnings\n",
    "warnings.filterwarnings(\"ignore\")\n",
    "import sys\n",
    "sys.path.insert(1, '../src/')\n",
    "from utils.functions import *\n",
    "from models.models_bo import *\n",
    "\n"
   ]
  },
  {
   "cell_type": "markdown",
   "metadata": {},
   "source": [
    "In this cell, we define the quantum circuit designed to prepare the target GHZ state. You can also modify the target state and the initial state directly within this cell, allowing for flexibility in the setup. <br />\n",
    "The fidelity is represented with a single surrogate model"
   ]
  },
  {
   "cell_type": "code",
   "execution_count": 2,
   "metadata": {},
   "outputs": [
    {
     "data": {
      "image/png": "[encoded data removed]",
      "text/plain": [
       "<Figure size 621.941x284.278 with 1 Axes>"
      ]
     },
     "execution_count": 2,
     "metadata": {},
     "output_type": "execute_result"
    }
   ],
   "source": [
    "def create_controlled_ghz_circuit(thetas, initial_state):\n",
    "  \n",
    "    circ = QuantumCircuit(3)\n",
    "    # Initialize qubits with the specified state\n",
    "    circ.initialize(initial_state, [0,1,2])\n",
    "    \n",
    "    # Apply parameterized rotation gates\n",
    "    circ.ry(thetas[0,0], 0)\n",
    "    circ.ry(thetas[0,1], 1)\n",
    "    circ.ry(thetas[0,2], 2)\n",
    "    circ.cx(0, 1)\n",
    "    circ.cx(0, 2)\n",
    "    circ.rx(thetas[0,3], 0)\n",
    "    circ.rx(thetas[0,4], 1)\n",
    "    circ.rx(thetas[0,5], 2)\n",
    "\n",
    "    return circ\n",
    "target_state = np.array([1 , 0, 0, 0, 0, 0, 0, 1])/np.sqrt(2)\n",
    "#target_state = np.array([1 , 0, 0, 0, 0, 0, 0, 1.01]) *np.sqrt((100**2)/((100**2 + 101**2))  )\n",
    "initial_state = np.array([1, 0, 0, 0, 0, 0, 0, 0])\n",
    "n_thetas = 6 #Number of parameters\n",
    "\n",
    "\n",
    "ghz_visualization = create_controlled_ghz_circuit(np.zeros(n_thetas)[np.newaxis,:],initial_state)\n",
    "coefficients, num_qubits = get_coefficients(target_state, ghz_visualization.num_qubits)\n",
    "coefficients_array = np.array([coefficients[k] for k in list(coefficients.keys())])\n",
    "\n",
    "ghz_visualization.draw('mpl')"
   ]
  },
  {
   "cell_type": "code",
   "execution_count": 3,
   "metadata": {},
   "outputs": [],
   "source": [
    "ghz_contr_circuit = create_controlled_ghz_circuit\n",
    "n_surrogates_models = len(coefficients)\n",
    "\n",
    "#If you want to estimate the performance with a set of test of the surrogate models, it is recommended to use the lines that contain the word \"test\"\n",
    "#they are commented to reduce the computational cost.\n",
    "#n_test_samples = 100\n",
    "#X_test, y_test_expectation_values, y_test_fidelities = get_real_samples(ghz_contr_circuit, n_test_samples, n_thetas, initial_state, target_state)\n"
   ]
  },
  {
   "cell_type": "markdown",
   "metadata": {},
   "source": [
    "Main parameters of the BO"
   ]
  },
  {
   "cell_type": "code",
   "execution_count": 4,
   "metadata": {},
   "outputs": [],
   "source": [
    "#Generate initial samples\n",
    "n_initial_samples = 1\n",
    "#Number of time to run the BO\n",
    "n_run = 10\n",
    "\n",
    "#Number of iterations of one BO\n",
    "n_BO = 200\n",
    "\n",
    "\n",
    "#Parameter of the function of adquisicion\n",
    "beta = 1"
   ]
  },
  {
   "cell_type": "code",
   "execution_count": 5,
   "metadata": {},
   "outputs": [
    {
     "name": "stdout",
     "output_type": "stream",
     "text": [
      "run  1\n"
     ]
    },
    {
     "data": {
      "application/vnd.jupyter.widget-view+json": {
       "model_id": "cb63304fac294bc98812546365f9dbdf",
       "version_major": 2,
       "version_minor": 0
      },
      "text/plain": [
       "  0%|          | 0/199 [00:00<?, ?it/s]"
      ]
     },
     "metadata": {},
     "output_type": "display_data"
    },
    {
     "name": "stdout",
     "output_type": "stream",
     "text": [
      "run  2\n"
     ]
    },
    {
     "data": {
      "application/vnd.jupyter.widget-view+json": {
       "model_id": "de62a0314d764f19934899422b78046d",
       "version_major": 2,
       "version_minor": 0
      },
      "text/plain": [
       "  0%|          | 0/199 [00:00<?, ?it/s]"
      ]
     },
     "metadata": {},
     "output_type": "display_data"
    },
    {
     "name": "stdout",
     "output_type": "stream",
     "text": [
      "run  3\n"
     ]
    },
    {
     "data": {
      "application/vnd.jupyter.widget-view+json": {
       "model_id": "afe3fc8b67614b309f1a6792d2c00cef",
       "version_major": 2,
       "version_minor": 0
      },
      "text/plain": [
       "  0%|          | 0/199 [00:00<?, ?it/s]"
      ]
     },
     "metadata": {},
     "output_type": "display_data"
    },
    {
     "name": "stdout",
     "output_type": "stream",
     "text": [
      "run  4\n"
     ]
    },
    {
     "data": {
      "application/vnd.jupyter.widget-view+json": {
       "model_id": "2c6fc75b6e534560acf3ea76668ef173",
       "version_major": 2,
       "version_minor": 0
      },
      "text/plain": [
       "  0%|          | 0/199 [00:00<?, ?it/s]"
      ]
     },
     "metadata": {},
     "output_type": "display_data"
    },
    {
     "name": "stdout",
     "output_type": "stream",
     "text": [
      "run  5\n"
     ]
    },
    {
     "data": {
      "application/vnd.jupyter.widget-view+json": {
       "model_id": "98e8d8c9c3a2479980c892dc7249fab4",
       "version_major": 2,
       "version_minor": 0
      },
      "text/plain": [
       "  0%|          | 0/199 [00:00<?, ?it/s]"
      ]
     },
     "metadata": {},
     "output_type": "display_data"
    },
    {
     "name": "stdout",
     "output_type": "stream",
     "text": [
      "run  6\n"
     ]
    },
    {
     "data": {
      "application/vnd.jupyter.widget-view+json": {
       "model_id": "0f65c32548cc4b64841fae3fea8f6fff",
       "version_major": 2,
       "version_minor": 0
      },
      "text/plain": [
       "  0%|          | 0/199 [00:00<?, ?it/s]"
      ]
     },
     "metadata": {},
     "output_type": "display_data"
    },
    {
     "name": "stdout",
     "output_type": "stream",
     "text": [
      "run  7\n"
     ]
    },
    {
     "data": {
      "application/vnd.jupyter.widget-view+json": {
       "model_id": "f23d3aad622648d7a10f74be220e86e4",
       "version_major": 2,
       "version_minor": 0
      },
      "text/plain": [
       "  0%|          | 0/199 [00:00<?, ?it/s]"
      ]
     },
     "metadata": {},
     "output_type": "display_data"
    },
    {
     "name": "stdout",
     "output_type": "stream",
     "text": [
      "run  8\n"
     ]
    },
    {
     "data": {
      "application/vnd.jupyter.widget-view+json": {
       "model_id": "cfde710143524a82a6aad829b7c72854",
       "version_major": 2,
       "version_minor": 0
      },
      "text/plain": [
       "  0%|          | 0/199 [00:00<?, ?it/s]"
      ]
     },
     "metadata": {},
     "output_type": "display_data"
    },
    {
     "name": "stdout",
     "output_type": "stream",
     "text": [
      "run  9\n"
     ]
    },
    {
     "data": {
      "application/vnd.jupyter.widget-view+json": {
       "model_id": "b8deb421a48846de8c998785e9fa2e95",
       "version_major": 2,
       "version_minor": 0
      },
      "text/plain": [
       "  0%|          | 0/199 [00:00<?, ?it/s]"
      ]
     },
     "metadata": {},
     "output_type": "display_data"
    },
    {
     "name": "stdout",
     "output_type": "stream",
     "text": [
      "run  10\n"
     ]
    },
    {
     "data": {
      "application/vnd.jupyter.widget-view+json": {
       "model_id": "8adf64e57101438e9c079807f08b210a",
       "version_major": 2,
       "version_minor": 0
      },
      "text/plain": [
       "  0%|          | 0/199 [00:00<?, ?it/s]"
      ]
     },
     "metadata": {},
     "output_type": "display_data"
    }
   ],
   "source": [
    "#BO loop\n",
    "\n",
    "history_best_fidelity_runs = np.zeros((n_run,n_BO)) #metric fidelity during BO\n",
    "best_fidelity_runs = np.zeros(n_run) #metric best fidelity\n",
    "best_thetas_runs = np.zeros((n_run, n_thetas)) #best params\n",
    "n_samples_acquisition_fx = 1000\n",
    "#Parameters of the GP\n",
    "params = {'training_iter': 10, 'learning_rate':0.1, 'initial_noise':1e-8, 'initial_lengthscale':0.9, 'initial_output_scale': 1, 'scaler_target': None, #'StandardScaler'\n",
    "            'verbose':False }\n",
    "bounds = torch.stack([torch.zeros(n_thetas), 2*pi*torch.ones(n_thetas)]) #Bounds angles\n",
    "\n",
    "for iter_run in range(n_run):\n",
    "    print('run ', iter_run+1)\n",
    "\n",
    "    # We get the initial data, prior\n",
    "    X_initial_thetas, _, fidelities_initial = get_real_samples(ghz_contr_circuit, n_initial_samples, n_thetas, initial_state, target_state, type_sampling='Random_Uniform')\n",
    "    history_best_fidelity = []\n",
    "    mean_metrics = {'mean_MSE_fidelity_train':np.zeros(n_BO),'mean_MSE_fidelity_test':np.zeros(n_BO),\n",
    "                    'mean_loss_train':np.zeros(n_BO), 'mean_loss_test':np.zeros(n_BO)}\n",
    "    history_thetas = np.zeros((n_BO,n_thetas))\n",
    "\n",
    "    #Store real data\n",
    "    X_train, y_train_fidelities = X_initial_thetas, fidelities_initial\n",
    "\n",
    "    #train model and save variables of training\n",
    "    surrogate_models = {'gp_model':[], 'likelihood':[], 'scaler_target':[]}\n",
    "    gp_model, ll, metrics, scaler_y = train_surrogate_models_gp((X_train, y_train_fidelities, [], [], params))\n",
    "    surrogate_models['gp_model'].append(gp_model)\n",
    "    surrogate_models['likelihood'].append(ll)\n",
    "    surrogate_models['scaler_target'].append(scaler_y)\n",
    "    #metrics_models['model_'+str(j)] = metrics\n",
    "\n",
    "    #Best fidelity\n",
    "    idx_best_real_fidelity = np.argmax(y_train_fidelities)\n",
    "    best_fidelity = y_train_fidelities[idx_best_real_fidelity]\n",
    "    best_thetas = X_train[idx_best_real_fidelity]\n",
    "    history_best_fidelity.append(best_fidelity)\n",
    "\n",
    "    params_predict = {'scaler_target':scaler_y} \n",
    "    iter_BO = 0\n",
    "    mean_metrics['mean_MSE_fidelity_train'][iter_BO] = metrics['MSE_train'][-1]\n",
    "    #mean_metrics['mean_MSE_fidelity_test'][iter_BO] = metrics['MSE_test'][-1]\n",
    "    mean_metrics['mean_loss_train'][iter_BO] = metrics['loss_train'][-1]\n",
    "    #mean_metrics['mean_loss_test'][iter_BO] = metrics['loss_test'][-1]\n",
    "\n",
    "\n",
    "    pbar = tqdm(range(1,n_BO))\n",
    "    for iter_BO in pbar:\n",
    "        # Generate new angles samples and Acquisition function\n",
    "        wrapped_gp_model = WrappedGPyTorchModelMonoGP(gp_model)\n",
    "        fx_acq = UpperConfidenceBound(wrapped_gp_model, beta=beta )\n",
    "        fx_acq.model.eval()\n",
    "        candidate, acq_value = optimize_acqf(\n",
    "            acq_function=fx_acq,\n",
    "            bounds=bounds,\n",
    "            q=1,\n",
    "            num_restarts=5,\n",
    "            raw_samples=n_samples_acquisition_fx)\n",
    "       \n",
    "        #New angles\n",
    "        new_sample = np.array(candidate).squeeze(0)\n",
    "\n",
    "\n",
    "        #Get the fidelity for the proposed angle\n",
    "        _, new_fid_real, _ = get_expectation_values(ghz_contr_circuit, new_sample[np.newaxis,:],initial_state, target_state) #Get the real values\n",
    "\n",
    "        #Add new data to known X_rain, y_train_fidelities\n",
    "        X_train = np.vstack((X_train,new_sample[np.newaxis,:]))\n",
    "        y_train_fidelities = np.hstack((y_train_fidelities, new_fid_real))\n",
    "\n",
    "        #Check if the new fidelity is best than the current best fidelity\n",
    "        if new_fid_real>best_fidelity:\n",
    "            best_fidelity = new_fid_real\n",
    "            best_thetas = new_sample\n",
    "            \n",
    "        history_best_fidelity.append(best_fidelity)\n",
    "        history_thetas[iter_BO] = best_thetas\n",
    "\n",
    "        #Update the surrogate model\n",
    "        gp_model, ll, metrics, scaler_y = train_surrogate_models_gp((X_train, y_train_fidelities, [], [], params))\n",
    "        params_predict = {'scaler_target':scaler_y} \n",
    "        mean_metrics['mean_MSE_fidelity_train'][iter_BO] = metrics['MSE_train'][-1]\n",
    "        #mean_metrics['mean_MSE_fidelity_test'][iter_BO] = metrics['MSE_test'][-1]\n",
    "        mean_metrics['mean_loss_train'][iter_BO] = metrics['loss_train'][-1]\n",
    "        #mean_metrics['mean_loss_test'][iter_BO] = metrics['loss_test'][-1]\n",
    "\n",
    "        pbar.set_description('Current best infidelity {}'.format(np.round(1-best_fidelity, 9)))\n",
    "\n",
    "    history_best_fidelity_runs[iter_run] = history_best_fidelity\n",
    "    best_fidelity_runs[iter_run] = best_fidelity\n",
    "    best_thetas_runs[iter_run] = best_thetas"
   ]
  },
  {
   "cell_type": "code",
   "execution_count": 6,
   "metadata": {},
   "outputs": [
    {
     "data": {
      "image/png": "[encoded data removed]",
      "text/plain": [
       "<Figure size 640x480 with 1 Axes>"
      ]
     },
     "metadata": {},
     "output_type": "display_data"
    },
    {
     "name": "stdout",
     "output_type": "stream",
     "text": [
      "Mean best infidelity:  2.7320679052422747e-09\n"
     ]
    }
   ],
   "source": [
    "plt.plot(np.arange(n_BO),1-np.mean(np.array(history_best_fidelity_runs),0),'-o', linewidth=1.3)\n",
    "plt.ylabel('Infidelity')\n",
    "plt.xlabel('Number of iterations')\n",
    "plt.yscale('log')\n",
    "plt.title('GHZ state infidelity during Bayesian Optimization')\n",
    "plt.legend()\n",
    "plt.show()\n",
    "print('Mean best infidelity: ', 1- np.mean(best_fidelity_runs))\n"
   ]
  },
  {
   "cell_type": "code",
   "execution_count": 8,
   "metadata": {},
   "outputs": [],
   "source": [
    "#Save data generated\n",
    "data_plot = {   'history_best_fidelity_runs':history_best_fidelity_runs,\n",
    "                'best_thetas_runs': best_thetas_runs,\n",
    "                'best_fidelity_runs':best_fidelity_runs, \n",
    "                'n_samples_acquisition_fx':n_samples_acquisition_fx,\n",
    "                'n_BO': n_BO,\n",
    "                'learning_rate': params['learning_rate'],\n",
    "                'initial_noise': params['initial_noise'],\n",
    "                'scaler_target': params['scaler_target'],\n",
    "                'n_initial_samples': n_initial_samples,\n",
    "                'mean_MSE_fidelity_train':mean_metrics['mean_MSE_fidelity_train'],\n",
    "                'mean_loss_train': mean_metrics['mean_loss_train'],\n",
    "                'type_acq_function': str(fx_acq), \n",
    "                'target_state': target_state,\n",
    "             }\n",
    "\n",
    "if True:\n",
    "    \n",
    "    with open(\"../results/qoc/results_ghz_bo_statevector.json\", \"w\") as outfile: \n",
    "        json.dump(data_plot, outfile, cls=CustomEncoder)"
   ]
  },
  {
   "cell_type": "code",
   "execution_count": 9,
   "metadata": {},
   "outputs": [],
   "source": [
    "metrics_reg= {\n",
    "    'mean_infidelity_runs': 1- np.mean(best_fidelity_runs),\n",
    "    'std_infidelity_runs': np.std(best_fidelity_runs),\n",
    "        }\n",
    "\n",
    "params['size_final_dataset'] = y_train_fidelities.shape[0]\n",
    "params['n_samples_acquisition_fx'] = n_samples_acquisition_fx\n",
    "params['type_acq_function'] = str(fx_acq)\n",
    "params['n_initial_samples'] = n_initial_samples\n"
   ]
  },
  {
   "cell_type": "markdown",
   "metadata": {},
   "source": [
    "Optionally: Track metrics and parameters in MLflow"
   ]
  },
  {
   "cell_type": "code",
   "execution_count": 10,
   "metadata": {},
   "outputs": [
    {
     "name": "stderr",
     "output_type": "stream",
     "text": [
      "2024/09/20 16:21:47 INFO mlflow.tracking._tracking_service.client: 🏃 View run GHZ_BO_Statevector at: http://127.0.0.1:8080/#/experiments/126759745047636218/runs/db7cd0d91a8143568854a6f1e8d44e43.\n",
      "2024/09/20 16:21:47 INFO mlflow.tracking._tracking_service.client: 🧪 View experiment at: http://127.0.0.1:8080/#/experiments/126759745047636218.\n"
     ]
    }
   ],
   "source": [
    "import mlflow\n",
    "mlflow.set_tracking_uri(uri=\"http://127.0.0.1:8080\")\n",
    "mlflow.set_experiment(\"QOC_GHZ\")\n",
    "\n",
    "with mlflow.start_run(run_name='GHZ_BO_Statevector'):\n",
    "\n",
    "    mlflow.log_params(params)\n",
    "    mlflow.log_metrics(metrics_reg)"
   ]
  }
 ],
 "metadata": {
  "kernelspec": {
   "display_name": "QML_env",
   "language": "python",
   "name": "python3"
  },
  "language_info": {
   "codemirror_mode": {
    "name": "ipython",
    "version": 3
   },
   "file_extension": ".py",
   "mimetype": "text/x-python",
   "name": "python",
   "nbconvert_exporter": "python",
   "pygments_lexer": "ipython3",
   "version": "3.12.0"
  }
 },
 "nbformat": 4,
 "nbformat_minor": 2
}
