{
 "cells": [
  {
   "cell_type": "markdown",
   "metadata": {},
   "source": [
    "\n",
    "<h1> Introduction to Quantum Optimal Control </h1>\n",
    "\n",
    "Quantum Optimal Control refers to the manipulation of quantum dynamical processes at the\n",
    "atomic or molecular scale applying external electromagnetic fields to accomplish a specific task,\n",
    "this also can be seen as bringing a given initial state to a target state.\n",
    "\n",
    "$|\\psi_{0}\\rangle \\rightarrow |\\psi_{target}\\rangle$ \n",
    "\n",
    "This quantum control is usually based on basis of control theory.\n",
    "\n",
    "<h3> Quantum measurements </h3>\n",
    "\n",
    "In quantum mechanics there is a special class of measurements, known as projective measurement, commonly used in quantum computation and quantum information. Projective measurements are associated with an observable $M$, which is a Hermitian operators and can be expressed through spectral decomposition:\n",
    "\n",
    "   $$ M = \\sum_{m} \\lambda_{m}M_{m} $$\n",
    "\n",
    "\n",
    "Here, $\\lambda_{m}$ represents the eigenvalue associated with the projector $M_{m}$.\n",
    "A key advantage of projective measurements is that they allow for straightforward calculation of expectation values. The expectation value of an observable $M$ with respect to the state $|\\psi\\rangle$ is given by:\n",
    "\n",
    "\\begin{gather*}\n",
    "\\begin{split}\n",
    "    <M>_{\\psi} & = \\langle\\psi|M|\\psi\\rangle  \\\\\n",
    "               & =  \\langle\\psi| \\Bigl(\\sum_{m} \\lambda_{m}M_{m} \\Bigr)|\\psi\\rangle \\\\\n",
    "               & =   \\sum_{m} \\lambda_{m}\\langle\\psi|M_{m}|\\psi\\rangle\n",
    "\\end{split}\n",
    "\\end{gather*}\n",
    "\n",
    "\n",
    "This expression shows how the expectation value can be computed by summing over the contributions from each eigenvalue $\\lambda_{m}$ weighted by the probability $\\langle\\psi|M_{m}|\\psi\\rangle$. \n",
    "\n",
    "The equations described above are useful for a pure state $|\\psi\\rangle$. The density operator associated with that state is $\\rho=|\\psi\\rangle\\langle\\psi|$. Since mixed states also exist, these equations can be easily generalised using $\\rho$, for example:\n",
    "\n",
    "\\begin{equation*}\n",
    "    \\begin{split}\n",
    "     <M>_{\\rho} & = Tr[M^{\\dag}\\rho] \\\\\n",
    "                & = \\sum_{m}\\lambda_{m}Tr[M_{m}\\rho] \n",
    "    \\end{split}\n",
    "\\end{equation*}\n"
   ]
  },
  {
   "cell_type": "markdown",
   "metadata": {},
   "source": [
    "<h3> State Fidelity and Pauli Operator Decomposition in Quantum Systems </h3> \n",
    "\n",
    "State fidelity, denoted as $F(\\rho, \\sigma)$, is a crucial metric in quantum information science that quantifies the similarity between a realized quantum state $\\rho$ and a target state $\\sigma_{tgt} = |\\psi_{tgt}\\rangle\\langle\\psi_{tgt}|$. Mathematically, it is expressed as: \n",
    "\n",
    "\\begin{equation*}\n",
    "F(\\rho, \\sigma_{tgt}) = \\text{Tr}[\\sigma_{tgt} \\rho]\n",
    "\\end{equation*} \n",
    "\n",
    "This measure ranges from 0 to 1, where a fidelity of 1 indicates perfect alignment between the prepared and target states. To calculate fidelity efficiently, we leverage the properties of Pauli operators. For an n-qubit system, we use a basis formed by the Pauli operators $X$, $Y$, $Z$, and the identity $I$, denoted as the set $P = {X, Y, Z, I}$. These Pauli observables generate $4^n$ different operators of the form given in the next equation: \n",
    "\n",
    "\n",
    "\\begin{equation}\n",
    "    {W_{i} = \\frac{1}{\\sqrt{2^{n}}}} P_{j_{1}}\\otimes ... \\otimes P_{j_{n}} |P_{j} \\in P\n",
    "\\end{equation}\n",
    "\n",
    "\n",
    "For example, in a 3-qubit system (such as the GHZ state we'll examine), there are $4^3 = 64$ possible Pauli strings: $III, IIX, IIY, ..., ZZZ$.\n",
    "\n",
    "\n",
    "<h4> State Decomposition </h4>\n",
    "\n",
    "Quantum states can be decomposed in terms of these Pauli operators. For a state $|\\psi\\rangle$, we can express its density matrix as: \n",
    "\n",
    "\\begin{equation*}\n",
    "|\\psi\\rangle\\langle\\psi| = \\sum_i c_i \\mu_i\n",
    "\\end{equation*}\n",
    "\n",
    "where $c_i$ are coefficients and $\\mu_i$ are Pauli string operators. The coefficients $c_i$ are calculated as: \n",
    " \n",
    "\\begin{equation*}\n",
    "c_i = \\frac{1}{2^n}\\langle\\psi|\\mu_i|\\psi\\rangle\n",
    "\\end{equation*} \n",
    "\n",
    "<h4>  GHZ State Specifics and Fidelity Calculation </h4>\n",
    " \n",
    "To illustrate the fidelity calculation process, we will examine the creation of a Greenberger-Horne-Zeilinger (GHZ) state, a well-known entangled state used in various quantum information and computation tasks. The fidelity between a pure target state $|\\phi\\rangle$ and a prepared state $|\\psi\\rangle$ can be expressed as: \n",
    "\n",
    "\\begin{gather*}\n",
    "\\begin{split}\n",
    "    F & = \\langle\\phi|\\psi\\rangle \\langle\\psi|\\phi\\rangle \\\\\n",
    "      & = \\langle\\phi| \\sum_i c_i \\mu_i |\\phi\\rangle \\\\\n",
    "      & = \\sum_i c_i \\langle\\phi|\\mu_i|\\phi\\rangle \\\\\n",
    "\\end{split}\n",
    "\\end{gather*} \n",
    "\n",
    "\n",
    "\n",
    "If we estimate the coefficients $c_{i}$ the fidelity for the GHZ state is reduced to:\n",
    "\n",
    "\\begin{equation*} \n",
    "    F(\\rho) = \\frac{1}{2^{3}}\\Bigl[ 1 + \\sum^{4}_{k=1} tr(\\rho S_{k}) - \\sum^{7}_{k=5} tr(\\rho S_{k}) \\Bigr]\n",
    "\\end{equation*}\n",
    "\n",
    "\n",
    "\n",
    "Where $S_{1} = \\sigma_{x} \\otimes \\sigma_{x} \\otimes \\sigma_{x}$, $S_k$ with $k$ = 2, 3 and 4 are the permutations of $\\mathbf{1} \\otimes \\sigma_{z} \\otimes \\sigma_{z}$, and $S_{k}$ with $k$ = 5, 6 and 7 are the permutations of $\\sigma_{x} \\otimes \\sigma_{y} \\otimes \\sigma_{y}$.\n",
    "\n",
    "\n",
    "In the developed code it is quite simple to obtain these coefficients $c_{i}$:\n",
    "\n"
   ]
  },
  {
   "cell_type": "code",
   "execution_count": 1,
   "metadata": {},
   "outputs": [
    {
     "data": {
      "text/plain": [
       "{'IZZ': 0.9999999999999998,\n",
       " 'XXX': 0.9999999999999998,\n",
       " 'XYY': -0.9999999999999998,\n",
       " 'YXY': -0.9999999999999998,\n",
       " 'YYX': -0.9999999999999998,\n",
       " 'ZIZ': 0.9999999999999998,\n",
       " 'ZZI': 0.9999999999999998}"
      ]
     },
     "execution_count": 1,
     "metadata": {},
     "output_type": "execute_result"
    }
   ],
   "source": [
    "import numpy as np\n",
    "import sys\n",
    "sys.path.insert(1, '../src/')\n",
    "from utils.functions import *\n",
    "\n",
    "target_state = np.array([1 , 0, 0, 0, 0, 0, 0, 1])/np.sqrt(2) #GHZ state\n",
    "\n",
    "coefficients, num_qubits = get_coefficients(target_state=target_state, n_qubits=3)\n",
    "coefficients"
   ]
  },
  {
   "cell_type": "markdown",
   "metadata": {},
   "source": [
    "\n",
    "In practical quantum experiments, local Pauli measurements are often employed to estimate fidelity, offering several key advantages:\n",
    "\n",
    "* Simplicity: Local measurements are easier to implement and less susceptible to errors compared to entangled measurements.\n",
    "* Scalability: They scale efficiently with increasing qubit numbers, making them suitable for larger quantum systems.\n",
    "* Efficiency: By leveraging the properties of the Pauli basis, fidelity can be estimated without requiring full state tomography.\n",
    "\n",
    "By focusing on the GHZ state and using Pauli operator decomposition, we can demonstrate not only the practical application of fidelity calculation but also highlight the importance of creating and verifying complex entangled states in quantum computing and information processing."
   ]
  },
  {
   "cell_type": "markdown",
   "metadata": {},
   "source": [
    "<h3> Modeling Observables with Surrogate Models </h3>\n",
    "\n",
    "Now that we have the necessary quantum knowledge, we can proceed with the Quantum Optimal Control, i.e.: $|\\psi_{0}\\rangle \\rightarrow |\\psi_{target}\\rangle$. To exemplify how to do this we will consider that we will optimise using Bayesian optimisation (BO).\n",
    "In general terms BO can be summarised in the following diagram:\n",
    "\n",
    "\n",
    "![Diagram_BO](https://github.com/babulab/QuantumOptimalControl-ML/blob/main/figures/diagram_bayesian_optimisation.jpg?raw=true)\n",
    "\n",
    "From this figure we can highlight the two main components of BO: surrogate model and acquisition function. In particular, the surrogate model is very important to us.\n",
    "\n",
    "The surrogate model can be used to model fidelity directly or multiple surrogate models can be created, one per observable, and the fidelity can be constructed from them. To do this, the BO diagram requires modifications, as shown in the diagram below:\n",
    "\n"
   ]
  },
  {
   "cell_type": "markdown",
   "metadata": {},
   "source": [
    "![Diagram_BO_obs](https://github.com/babulab/QuantumOptimalControl-ML/blob/main/figures/diagram_bayesian_optimisation_with_observables.jpg?raw=true)\n"
   ]
  },
  {
   "cell_type": "markdown",
   "metadata": {},
   "source": [
    "In this modified approach, we employ multiple surrogate models, typically Gaussian Processes (GPs). Each of these GPs corresponds to an observable of the quantum system. The number of GPs required depends on the specific quantum state we're preparing and our chosen measurement strategy.\n",
    "\n",
    "\n",
    "For example, if we're preparing a GHZ state, we would need seven GPs corresponding to the relevant observables for that state.\n",
    "It's important to note that while this approach adds complexity compared to direct fidelity optimization, it often provides a more realistic and robust framework for quantum optimal control in experimental settings."
   ]
  }
 ],
 "metadata": {
  "kernelspec": {
   "display_name": "QML_env",
   "language": "python",
   "name": "python3"
  },
  "language_info": {
   "codemirror_mode": {
    "name": "ipython",
    "version": 3
   },
   "file_extension": ".py",
   "mimetype": "text/x-python",
   "name": "python",
   "nbconvert_exporter": "python",
   "pygments_lexer": "ipython3",
   "version": "3.11.5"
  }
 },
 "nbformat": 4,
 "nbformat_minor": 2
}
